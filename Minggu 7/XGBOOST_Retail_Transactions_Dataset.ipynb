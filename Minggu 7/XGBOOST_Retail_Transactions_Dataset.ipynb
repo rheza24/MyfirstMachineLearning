{
  "cells": [
    {
      "cell_type": "code",
      "execution_count": 89,
      "metadata": {
        "id": "SpJQjhi_95KV"
      },
      "outputs": [],
      "source": [
        "# Import necessary libraries\n",
        "import pandas as pd\n",
        "from sklearn.model_selection import train_test_split, GridSearchCV\n",
        "from sklearn.metrics import mean_absolute_error\n",
        "from xgboost import XGBRegressor\n",
        "from sklearn.preprocessing import OneHotEncoder\n",
        "from sklearn.compose import ColumnTransformer"
      ]
    },
    {
      "cell_type": "code",
      "execution_count": 90,
      "metadata": {
        "id": "VatT_hVr99Do"
      },
      "outputs": [],
      "source": [
        "retail_dataset_path = r'C:\\Users\\Rheza\\OneDrive - Telkom University\\Machine learning\\Minggu 7\\Retail_Transactions_Dataset.csv'\n"
      ]
    },
    {
      "cell_type": "code",
      "execution_count": 91,
      "metadata": {
        "id": "1bXh5HeP-A5H"
      },
      "outputs": [],
      "source": [
        "# Use Pandas to read the CSV file\n",
        "retail_dataset_path = pd.read_csv(retail_dataset_path)"
      ]
    },
    {
      "cell_type": "code",
      "execution_count": 92,
      "metadata": {
        "colab": {
          "base_uri": "https://localhost:8080/"
        },
        "id": "FpH3UkEC_Uln",
        "outputId": "ff003e1d-5da9-4b43-c1f5-d0e60983d033"
      },
      "outputs": [
        {
          "name": "stdout",
          "output_type": "stream",
          "text": [
            "   Transaction_ID                 Date     Customer_Name  \\\n",
            "0      1000000000  2020-12-21 19:42:52   Cheyenne Newman   \n",
            "1      1000000001  2020-07-06 07:45:16  Emily Fitzgerald   \n",
            "2      1000000002  2021-10-02 06:28:44      Michael Webb   \n",
            "3      1000000003  2022-01-10 05:39:02      Kimberly Lin   \n",
            "4      1000000004  2021-10-13 07:28:47   Cathy Hernandez   \n",
            "\n",
            "                                             Product  Total_Items  Total_Cost  \\\n",
            "0                                       ['Hair Gel']            6       12.77   \n",
            "1         ['Tuna', 'Bread', 'Tissues', 'Trash Bags']            5       13.88   \n",
            "2                         ['Jam', 'Soap', 'Ketchup']            7       47.02   \n",
            "3                                      ['BBQ Sauce']            9       83.86   \n",
            "4  ['Hand Sanitizer', 'Bread', 'Extension Cords',...            4       30.55   \n",
            "\n",
            "   Payment_Method      City         Store_Type  Discount_Applied  \\\n",
            "0      Debit Card  New York  Convenience Store              True   \n",
            "1      Debit Card   Houston        Supermarket             False   \n",
            "2      Debit Card     Miami  Convenience Store             False   \n",
            "3  Mobile Payment   Seattle     Warehouse Club              True   \n",
            "4      Debit Card   Houston     Warehouse Club             False   \n",
            "\n",
            "  Customer_Category  Season                   Promotion  \n",
            "0           Student  Winter                         NaN  \n",
            "1      Professional    Fall      BOGO (Buy One Get One)  \n",
            "2       Young Adult  Winter                         NaN  \n",
            "3    Senior Citizen  Summer  Discount on Selected Items  \n",
            "4    Senior Citizen  Spring                         NaN  \n"
          ]
        }
      ],
      "source": [
        "# Display the first few rows of the dataset\n",
        "print(retail_dataset_path.head())"
      ]
    },
    {
      "cell_type": "code",
      "execution_count": 93,
      "metadata": {
        "colab": {
          "base_uri": "https://localhost:8080/"
        },
        "id": "IOcINbOoCkaM",
        "outputId": "609df6c9-4233-4d6e-b0fd-f444f5b8c670"
      },
      "outputs": [],
      "source": [
        "# Data preprocessing\n",
        "# Convert 'Price', 'Reviews', 'Size', and 'Installs' to numeric (replace non-numeric values with 0)\n",
        "retail_dataset_path['Store_Type'] = pd.to_numeric(retail_dataset_path['Store_Type'].str.replace('$', ''), errors='coerce').fillna(0)\n",
        "retail_dataset_path['Date'] = pd.to_numeric(retail_dataset_path['Date'], errors='coerce').fillna(0)\n",
        "retail_dataset_path['Customer_Name'] = pd.to_numeric(retail_dataset_path['Customer_Name'].str.replace('M', '').str.replace('k', '').str.replace(',', ''), errors='coerce').fillna(0)\n",
        "retail_dataset_path['Product'] = pd.to_numeric(retail_dataset_path['Product'].str.replace('+', '').str.replace(',', ''), errors='coerce').fillna(0)"
      ]
    },
    {
      "cell_type": "code",
      "execution_count": 94,
      "metadata": {
        "id": "z-oVaRY__XfK"
      },
      "outputs": [],
      "source": [
        "# Encode 'Content Rating' column\n",
        "retail_dataset_path = pd.get_dummies(retail_dataset_path, columns=['Promotion'], drop_first=True)"
      ]
    },
    {
      "cell_type": "code",
      "execution_count": 95,
      "metadata": {
        "id": "ixMF8Wrp_wkg"
      },
      "outputs": [],
      "source": [
        "# Select features based on the prediction goal\n",
        "cols_to_use_retail = ['Store_Type', 'Date', 'Customer_Name', 'Product',]  # Include 'Rating' in features\n",
        "retail_dataset_path = retail_dataset_path[cols_to_use_retail].dropna()"
      ]
    },
    {
      "cell_type": "code",
      "execution_count": 96,
      "metadata": {
        "id": "12rOzH5AHMdp"
      },
      "outputs": [],
      "source": [
        "# Pastikan Anda telah memiliki path dari dataset\n",
        "path_file_dataset = 'C:/Users/Rheza/OneDrive - Telkom University/Machine learning/Minggu 7/Retail_Transactions_Dataset.csv'  # Ganti dengan path yang benar\n",
        "\n",
        "# Memuat dataset ke dalam DataFrame\n",
        "retail_dataset = pd.read_csv(path_file_dataset)\n",
        "\n",
        "# Pisahkan fitur (X) dan target (y)\n",
        "X_retail = retail_dataset.drop('Total_Items', axis=1)  # Pastikan 'Total_Items' adalah nama kolom yang benar\n",
        "y_retail = retail_dataset['Total_Items']  # Pastikan 'Total_Items' adalah nama kolom yang benar\n"
      ]
    },
    {
      "cell_type": "code",
      "execution_count": 97,
      "metadata": {
        "id": "jNASQ6csHN3t"
      },
      "outputs": [],
      "source": [
        "# Split data into training and validation sets\n",
        "X_train_retail, X_valid_retail, y_train_retail, y_valid_retail = train_test_split(X_retail, y_retail, test_size=0.2, random_state=42)"
      ]
    },
    {
      "cell_type": "code",
      "execution_count": 98,
      "metadata": {
        "id": "NtE4AmDfHR_b"
      },
      "outputs": [],
      "source": [
        "# Hyperparameter tuning using GridSearchCV\n",
        "# Define model\n",
        "model_grid = XGBRegressor()"
      ]
    },
    {
      "cell_type": "code",
      "execution_count": 99,
      "metadata": {
        "id": "_LIAfKV5HWD0"
      },
      "outputs": [],
      "source": [
        "# Define parameter grid\n",
        "param_grid = {\n",
        "    'n_estimators': [100, 150, 200, 250, 300]  # Adjust the range of values to try\n",
        "}"
      ]
    },
    {
      "cell_type": "code",
      "execution_count": 100,
      "metadata": {
        "id": "QorHxzrZHYWm"
      },
      "outputs": [],
      "source": [
        "# Initialize GridSearchCV\n",
        "grid_search = GridSearchCV(estimator=model_grid, param_grid=param_grid, cv=5, scoring='neg_mean_absolute_error')"
      ]
    },
    {
      "cell_type": "code",
      "execution_count": 101,
      "metadata": {},
      "outputs": [
        {
          "data": {
            "text/html": [
              "<style>#sk-container-id-3 {color: black;}#sk-container-id-3 pre{padding: 0;}#sk-container-id-3 div.sk-toggleable {background-color: white;}#sk-container-id-3 label.sk-toggleable__label {cursor: pointer;display: block;width: 100%;margin-bottom: 0;padding: 0.3em;box-sizing: border-box;text-align: center;}#sk-container-id-3 label.sk-toggleable__label-arrow:before {content: \"▸\";float: left;margin-right: 0.25em;color: #696969;}#sk-container-id-3 label.sk-toggleable__label-arrow:hover:before {color: black;}#sk-container-id-3 div.sk-estimator:hover label.sk-toggleable__label-arrow:before {color: black;}#sk-container-id-3 div.sk-toggleable__content {max-height: 0;max-width: 0;overflow: hidden;text-align: left;background-color: #f0f8ff;}#sk-container-id-3 div.sk-toggleable__content pre {margin: 0.2em;color: black;border-radius: 0.25em;background-color: #f0f8ff;}#sk-container-id-3 input.sk-toggleable__control:checked~div.sk-toggleable__content {max-height: 200px;max-width: 100%;overflow: auto;}#sk-container-id-3 input.sk-toggleable__control:checked~label.sk-toggleable__label-arrow:before {content: \"▾\";}#sk-container-id-3 div.sk-estimator input.sk-toggleable__control:checked~label.sk-toggleable__label {background-color: #d4ebff;}#sk-container-id-3 div.sk-label input.sk-toggleable__control:checked~label.sk-toggleable__label {background-color: #d4ebff;}#sk-container-id-3 input.sk-hidden--visually {border: 0;clip: rect(1px 1px 1px 1px);clip: rect(1px, 1px, 1px, 1px);height: 1px;margin: -1px;overflow: hidden;padding: 0;position: absolute;width: 1px;}#sk-container-id-3 div.sk-estimator {font-family: monospace;background-color: #f0f8ff;border: 1px dotted black;border-radius: 0.25em;box-sizing: border-box;margin-bottom: 0.5em;}#sk-container-id-3 div.sk-estimator:hover {background-color: #d4ebff;}#sk-container-id-3 div.sk-parallel-item::after {content: \"\";width: 100%;border-bottom: 1px solid gray;flex-grow: 1;}#sk-container-id-3 div.sk-label:hover label.sk-toggleable__label {background-color: #d4ebff;}#sk-container-id-3 div.sk-serial::before {content: \"\";position: absolute;border-left: 1px solid gray;box-sizing: border-box;top: 0;bottom: 0;left: 50%;z-index: 0;}#sk-container-id-3 div.sk-serial {display: flex;flex-direction: column;align-items: center;background-color: white;padding-right: 0.2em;padding-left: 0.2em;position: relative;}#sk-container-id-3 div.sk-item {position: relative;z-index: 1;}#sk-container-id-3 div.sk-parallel {display: flex;align-items: stretch;justify-content: center;background-color: white;position: relative;}#sk-container-id-3 div.sk-item::before, #sk-container-id-3 div.sk-parallel-item::before {content: \"\";position: absolute;border-left: 1px solid gray;box-sizing: border-box;top: 0;bottom: 0;left: 50%;z-index: -1;}#sk-container-id-3 div.sk-parallel-item {display: flex;flex-direction: column;z-index: 1;position: relative;background-color: white;}#sk-container-id-3 div.sk-parallel-item:first-child::after {align-self: flex-end;width: 50%;}#sk-container-id-3 div.sk-parallel-item:last-child::after {align-self: flex-start;width: 50%;}#sk-container-id-3 div.sk-parallel-item:only-child::after {width: 0;}#sk-container-id-3 div.sk-dashed-wrapped {border: 1px dashed gray;margin: 0 0.4em 0.5em 0.4em;box-sizing: border-box;padding-bottom: 0.4em;background-color: white;}#sk-container-id-3 div.sk-label label {font-family: monospace;font-weight: bold;display: inline-block;line-height: 1.2em;}#sk-container-id-3 div.sk-label-container {text-align: center;}#sk-container-id-3 div.sk-container {/* jupyter's `normalize.less` sets `[hidden] { display: none; }` but bootstrap.min.css set `[hidden] { display: none !important; }` so we also need the `!important` here to be able to override the default hidden behavior on the sphinx rendered scikit-learn.org. See: https://github.com/scikit-learn/scikit-learn/issues/21755 */display: inline-block !important;position: relative;}#sk-container-id-3 div.sk-text-repr-fallback {display: none;}</style><div id=\"sk-container-id-3\" class=\"sk-top-container\"><div class=\"sk-text-repr-fallback\"><pre>GridSearchCV(cv=5,\n",
              "             estimator=Pipeline(steps=[(&#x27;transformer&#x27;,\n",
              "                                        ColumnTransformer(remainder=&#x27;passthrough&#x27;,\n",
              "                                                          transformers=[(&#x27;encoder&#x27;,\n",
              "                                                                         OneHotEncoder(handle_unknown=&#x27;ignore&#x27;),\n",
              "                                                                         [&#x27;Customer_Name&#x27;,\n",
              "                                                                          &#x27;Product&#x27;,\n",
              "                                                                          &#x27;Payment_Method&#x27;,\n",
              "                                                                          &#x27;City&#x27;,\n",
              "                                                                          &#x27;Store_Type&#x27;,\n",
              "                                                                          &#x27;Customer_Category&#x27;,\n",
              "                                                                          &#x27;Season&#x27;,\n",
              "                                                                          &#x27;Promotion&#x27;])])),\n",
              "                                       (&#x27;model&#x27;,\n",
              "                                        XGBRegressor(base_score=None,\n",
              "                                                     booster=None,\n",
              "                                                     callbacks=None,\n",
              "                                                     colsample...\n",
              "                                                     max_cat_threshold=None,\n",
              "                                                     max_cat_to_onehot=None,\n",
              "                                                     max_delta_step=None,\n",
              "                                                     max_depth=None,\n",
              "                                                     max_leaves=None,\n",
              "                                                     min_child_weight=None,\n",
              "                                                     missing=nan,\n",
              "                                                     monotone_constraints=None,\n",
              "                                                     multi_strategy=None,\n",
              "                                                     n_estimators=None,\n",
              "                                                     n_jobs=None,\n",
              "                                                     num_parallel_tree=None,\n",
              "                                                     random_state=None, ...))]),\n",
              "             param_grid={&#x27;model__learning_rate&#x27;: [0.01, 0.1],\n",
              "                         &#x27;model__max_depth&#x27;: [3, 5],\n",
              "                         &#x27;model__n_estimators&#x27;: [100, 200]})</pre><b>In a Jupyter environment, please rerun this cell to show the HTML representation or trust the notebook. <br />On GitHub, the HTML representation is unable to render, please try loading this page with nbviewer.org.</b></div><div class=\"sk-container\" hidden><div class=\"sk-item sk-dashed-wrapped\"><div class=\"sk-label-container\"><div class=\"sk-label sk-toggleable\"><input class=\"sk-toggleable__control sk-hidden--visually\" id=\"sk-estimator-id-12\" type=\"checkbox\" ><label for=\"sk-estimator-id-12\" class=\"sk-toggleable__label sk-toggleable__label-arrow\">GridSearchCV</label><div class=\"sk-toggleable__content\"><pre>GridSearchCV(cv=5,\n",
              "             estimator=Pipeline(steps=[(&#x27;transformer&#x27;,\n",
              "                                        ColumnTransformer(remainder=&#x27;passthrough&#x27;,\n",
              "                                                          transformers=[(&#x27;encoder&#x27;,\n",
              "                                                                         OneHotEncoder(handle_unknown=&#x27;ignore&#x27;),\n",
              "                                                                         [&#x27;Customer_Name&#x27;,\n",
              "                                                                          &#x27;Product&#x27;,\n",
              "                                                                          &#x27;Payment_Method&#x27;,\n",
              "                                                                          &#x27;City&#x27;,\n",
              "                                                                          &#x27;Store_Type&#x27;,\n",
              "                                                                          &#x27;Customer_Category&#x27;,\n",
              "                                                                          &#x27;Season&#x27;,\n",
              "                                                                          &#x27;Promotion&#x27;])])),\n",
              "                                       (&#x27;model&#x27;,\n",
              "                                        XGBRegressor(base_score=None,\n",
              "                                                     booster=None,\n",
              "                                                     callbacks=None,\n",
              "                                                     colsample...\n",
              "                                                     max_cat_threshold=None,\n",
              "                                                     max_cat_to_onehot=None,\n",
              "                                                     max_delta_step=None,\n",
              "                                                     max_depth=None,\n",
              "                                                     max_leaves=None,\n",
              "                                                     min_child_weight=None,\n",
              "                                                     missing=nan,\n",
              "                                                     monotone_constraints=None,\n",
              "                                                     multi_strategy=None,\n",
              "                                                     n_estimators=None,\n",
              "                                                     n_jobs=None,\n",
              "                                                     num_parallel_tree=None,\n",
              "                                                     random_state=None, ...))]),\n",
              "             param_grid={&#x27;model__learning_rate&#x27;: [0.01, 0.1],\n",
              "                         &#x27;model__max_depth&#x27;: [3, 5],\n",
              "                         &#x27;model__n_estimators&#x27;: [100, 200]})</pre></div></div></div><div class=\"sk-parallel\"><div class=\"sk-parallel-item\"><div class=\"sk-item\"><div class=\"sk-label-container\"><div class=\"sk-label sk-toggleable\"><input class=\"sk-toggleable__control sk-hidden--visually\" id=\"sk-estimator-id-13\" type=\"checkbox\" ><label for=\"sk-estimator-id-13\" class=\"sk-toggleable__label sk-toggleable__label-arrow\">estimator: Pipeline</label><div class=\"sk-toggleable__content\"><pre>Pipeline(steps=[(&#x27;transformer&#x27;,\n",
              "                 ColumnTransformer(remainder=&#x27;passthrough&#x27;,\n",
              "                                   transformers=[(&#x27;encoder&#x27;,\n",
              "                                                  OneHotEncoder(handle_unknown=&#x27;ignore&#x27;),\n",
              "                                                  [&#x27;Customer_Name&#x27;, &#x27;Product&#x27;,\n",
              "                                                   &#x27;Payment_Method&#x27;, &#x27;City&#x27;,\n",
              "                                                   &#x27;Store_Type&#x27;,\n",
              "                                                   &#x27;Customer_Category&#x27;,\n",
              "                                                   &#x27;Season&#x27;, &#x27;Promotion&#x27;])])),\n",
              "                (&#x27;model&#x27;,\n",
              "                 XGBRegressor(base_score=None, booster=None, callbacks=None,\n",
              "                              colsample_bylevel=None, colsample_byno...\n",
              "                              feature_types=None, gamma=None, grow_policy=None,\n",
              "                              importance_type=None,\n",
              "                              interaction_constraints=None, learning_rate=None,\n",
              "                              max_bin=None, max_cat_threshold=None,\n",
              "                              max_cat_to_onehot=None, max_delta_step=None,\n",
              "                              max_depth=None, max_leaves=None,\n",
              "                              min_child_weight=None, missing=nan,\n",
              "                              monotone_constraints=None, multi_strategy=None,\n",
              "                              n_estimators=None, n_jobs=None,\n",
              "                              num_parallel_tree=None, random_state=None, ...))])</pre></div></div></div><div class=\"sk-serial\"><div class=\"sk-item\"><div class=\"sk-serial\"><div class=\"sk-item sk-dashed-wrapped\"><div class=\"sk-label-container\"><div class=\"sk-label sk-toggleable\"><input class=\"sk-toggleable__control sk-hidden--visually\" id=\"sk-estimator-id-14\" type=\"checkbox\" ><label for=\"sk-estimator-id-14\" class=\"sk-toggleable__label sk-toggleable__label-arrow\">transformer: ColumnTransformer</label><div class=\"sk-toggleable__content\"><pre>ColumnTransformer(remainder=&#x27;passthrough&#x27;,\n",
              "                  transformers=[(&#x27;encoder&#x27;,\n",
              "                                 OneHotEncoder(handle_unknown=&#x27;ignore&#x27;),\n",
              "                                 [&#x27;Customer_Name&#x27;, &#x27;Product&#x27;, &#x27;Payment_Method&#x27;,\n",
              "                                  &#x27;City&#x27;, &#x27;Store_Type&#x27;, &#x27;Customer_Category&#x27;,\n",
              "                                  &#x27;Season&#x27;, &#x27;Promotion&#x27;])])</pre></div></div></div><div class=\"sk-parallel\"><div class=\"sk-parallel-item\"><div class=\"sk-item\"><div class=\"sk-label-container\"><div class=\"sk-label sk-toggleable\"><input class=\"sk-toggleable__control sk-hidden--visually\" id=\"sk-estimator-id-15\" type=\"checkbox\" ><label for=\"sk-estimator-id-15\" class=\"sk-toggleable__label sk-toggleable__label-arrow\">encoder</label><div class=\"sk-toggleable__content\"><pre>[&#x27;Customer_Name&#x27;, &#x27;Product&#x27;, &#x27;Payment_Method&#x27;, &#x27;City&#x27;, &#x27;Store_Type&#x27;, &#x27;Customer_Category&#x27;, &#x27;Season&#x27;, &#x27;Promotion&#x27;]</pre></div></div></div><div class=\"sk-serial\"><div class=\"sk-item\"><div class=\"sk-estimator sk-toggleable\"><input class=\"sk-toggleable__control sk-hidden--visually\" id=\"sk-estimator-id-16\" type=\"checkbox\" ><label for=\"sk-estimator-id-16\" class=\"sk-toggleable__label sk-toggleable__label-arrow\">OneHotEncoder</label><div class=\"sk-toggleable__content\"><pre>OneHotEncoder(handle_unknown=&#x27;ignore&#x27;)</pre></div></div></div></div></div></div><div class=\"sk-parallel-item\"><div class=\"sk-item\"><div class=\"sk-label-container\"><div class=\"sk-label sk-toggleable\"><input class=\"sk-toggleable__control sk-hidden--visually\" id=\"sk-estimator-id-17\" type=\"checkbox\" ><label for=\"sk-estimator-id-17\" class=\"sk-toggleable__label sk-toggleable__label-arrow\">remainder</label><div class=\"sk-toggleable__content\"><pre></pre></div></div></div><div class=\"sk-serial\"><div class=\"sk-item\"><div class=\"sk-estimator sk-toggleable\"><input class=\"sk-toggleable__control sk-hidden--visually\" id=\"sk-estimator-id-18\" type=\"checkbox\" ><label for=\"sk-estimator-id-18\" class=\"sk-toggleable__label sk-toggleable__label-arrow\">passthrough</label><div class=\"sk-toggleable__content\"><pre>passthrough</pre></div></div></div></div></div></div></div></div><div class=\"sk-item\"><div class=\"sk-estimator sk-toggleable\"><input class=\"sk-toggleable__control sk-hidden--visually\" id=\"sk-estimator-id-19\" type=\"checkbox\" ><label for=\"sk-estimator-id-19\" class=\"sk-toggleable__label sk-toggleable__label-arrow\">XGBRegressor</label><div class=\"sk-toggleable__content\"><pre>XGBRegressor(base_score=None, booster=None, callbacks=None,\n",
              "             colsample_bylevel=None, colsample_bynode=None,\n",
              "             colsample_bytree=None, device=None, early_stopping_rounds=None,\n",
              "             enable_categorical=False, eval_metric=None, feature_types=None,\n",
              "             gamma=None, grow_policy=None, importance_type=None,\n",
              "             interaction_constraints=None, learning_rate=None, max_bin=None,\n",
              "             max_cat_threshold=None, max_cat_to_onehot=None,\n",
              "             max_delta_step=None, max_depth=None, max_leaves=None,\n",
              "             min_child_weight=None, missing=nan, monotone_constraints=None,\n",
              "             multi_strategy=None, n_estimators=None, n_jobs=None,\n",
              "             num_parallel_tree=None, random_state=None, ...)</pre></div></div></div></div></div></div></div></div></div></div></div></div>"
            ],
            "text/plain": [
              "GridSearchCV(cv=5,\n",
              "             estimator=Pipeline(steps=[('transformer',\n",
              "                                        ColumnTransformer(remainder='passthrough',\n",
              "                                                          transformers=[('encoder',\n",
              "                                                                         OneHotEncoder(handle_unknown='ignore'),\n",
              "                                                                         ['Customer_Name',\n",
              "                                                                          'Product',\n",
              "                                                                          'Payment_Method',\n",
              "                                                                          'City',\n",
              "                                                                          'Store_Type',\n",
              "                                                                          'Customer_Category',\n",
              "                                                                          'Season',\n",
              "                                                                          'Promotion'])])),\n",
              "                                       ('model',\n",
              "                                        XGBRegressor(base_score=None,\n",
              "                                                     booster=None,\n",
              "                                                     callbacks=None,\n",
              "                                                     colsample...\n",
              "                                                     max_cat_threshold=None,\n",
              "                                                     max_cat_to_onehot=None,\n",
              "                                                     max_delta_step=None,\n",
              "                                                     max_depth=None,\n",
              "                                                     max_leaves=None,\n",
              "                                                     min_child_weight=None,\n",
              "                                                     missing=nan,\n",
              "                                                     monotone_constraints=None,\n",
              "                                                     multi_strategy=None,\n",
              "                                                     n_estimators=None,\n",
              "                                                     n_jobs=None,\n",
              "                                                     num_parallel_tree=None,\n",
              "                                                     random_state=None, ...))]),\n",
              "             param_grid={'model__learning_rate': [0.01, 0.1],\n",
              "                         'model__max_depth': [3, 5],\n",
              "                         'model__n_estimators': [100, 200]})"
            ]
          },
          "execution_count": 101,
          "metadata": {},
          "output_type": "execute_result"
        }
      ],
      "source": [
        "import pandas as pd\n",
        "from sklearn.model_selection import GridSearchCV\n",
        "from sklearn.preprocessing import OneHotEncoder\n",
        "from sklearn.compose import ColumnTransformer\n",
        "from xgboost import XGBRegressor\n",
        "from sklearn.pipeline import Pipeline\n",
        "\n",
        "# Konversi kolom tanggal menjadi datetime\n",
        "X_train_retail['Date'] = pd.to_datetime(X_train_retail['Date'])\n",
        "\n",
        "# Ekstrak tahun, bulan, dan hari dari tanggal\n",
        "X_train_retail['Year'] = X_train_retail['Date'].dt.year\n",
        "X_train_retail['Month'] = X_train_retail['Date'].dt.month\n",
        "X_train_retail['Day'] = X_train_retail['Date'].dt.day\n",
        "\n",
        "# Hapus kolom tanggal asli\n",
        "X_train_retail = X_train_retail.drop('Date', axis=1)\n",
        "\n",
        "# Tentukan kolom kategorikal\n",
        "categorical_columns = ['Customer_Name', 'Product', 'Payment_Method', 'City', 'Store_Type', 'Customer_Category', 'Season', 'Promotion']\n",
        "\n",
        "# Inisialisasi OneHotEncoder dan ColumnTransformer\n",
        "column_transformer = ColumnTransformer(\n",
        "    [(\"encoder\", OneHotEncoder(handle_unknown='ignore'), categorical_columns)],\n",
        "    remainder='passthrough')\n",
        "\n",
        "# Buat pipeline\n",
        "pipeline = Pipeline([\n",
        "    ('transformer', column_transformer),\n",
        "    ('model', XGBRegressor())\n",
        "])\n",
        "\n",
        "# Parameter untuk GridSearchCV\n",
        "param_grid = {\n",
        "    'model__n_estimators': [100, 200],\n",
        "    'model__learning_rate': [0.01, 0.1],\n",
        "    'model__max_depth': [3, 5]\n",
        "}\n",
        "\n",
        "# Inisialisasi GridSearchCV\n",
        "grid_search = GridSearchCV(pipeline, param_grid, cv=5)\n",
        "\n",
        "# Latih model\n",
        "grid_search.fit(X_train_retail, y_train_retail)\n"
      ]
    },
    {
      "cell_type": "code",
      "execution_count": 102,
      "metadata": {
        "colab": {
          "base_uri": "https://localhost:8080/"
        },
        "id": "7z10Gh-cHbac",
        "outputId": "ee25ea21-2415-48be-da76-edfc694f56ce"
      },
      "outputs": [
        {
          "name": "stdout",
          "output_type": "stream",
          "text": [
            "Best learning_rate: 0.01\n",
            "Best max_depth: 3\n"
          ]
        }
      ],
      "source": [
        "best_learning_rate = grid_search.best_params_['model__learning_rate']\n",
        "best_max_depth = grid_search.best_params_['model__max_depth']\n",
        "\n",
        "print(\"Best learning_rate:\", best_learning_rate)\n",
        "print(\"Best max_depth:\", best_max_depth)\n"
      ]
    },
    {
      "cell_type": "code",
      "execution_count": 103,
      "metadata": {
        "id": "mAYaO2AWHc-A"
      },
      "outputs": [],
      "source": [
        "# Define a range of n_estimators values to test\n",
        "n_estimators_list = [100, 150, 200, 250, 300]"
      ]
    },
    {
      "cell_type": "code",
      "execution_count": 104,
      "metadata": {},
      "outputs": [
        {
          "name": "stdout",
          "output_type": "stream",
          "text": [
            "Kolom berikut tidak ada dalam DataFrame:  ['Date']\n"
          ]
        }
      ],
      "source": [
        "# Kolom yang ingin diubah menjadi kategorikal\n",
        "categorical_columns = ['Date', 'Customer_Name', 'Product', 'Payment_Method', \n",
        "                       'City', 'Store_Type', 'Customer_Category', 'Season', 'Promotion','Year', 'Day', 'Month']\n",
        "\n",
        "# Cek apakah setiap kolom ada dalam DataFrame\n",
        "missing_columns = [col for col in categorical_columns if col not in X_train_retail.columns]\n",
        "if missing_columns:\n",
        "    print(\"Kolom berikut tidak ada dalam DataFrame: \", missing_columns)\n",
        "else:\n",
        "    print(\"Semua kolom tersedia.\")\n"
      ]
    },
    {
      "cell_type": "code",
      "execution_count": 105,
      "metadata": {},
      "outputs": [
        {
          "name": "stdout",
          "output_type": "stream",
          "text": [
            "Columns in X_train_retail: Index(['Transaction_ID', 'Customer_Name', 'Product', 'Total_Cost',\n",
            "       'Payment_Method', 'City', 'Store_Type', 'Discount_Applied',\n",
            "       'Customer_Category', 'Season', 'Promotion', 'Year', 'Month', 'Day'],\n",
            "      dtype='object')\n",
            "Columns in X_valid_retail: Index(['Transaction_ID', 'Date', 'Customer_Name', 'Product', 'Total_Cost',\n",
            "       'Payment_Method', 'City', 'Store_Type', 'Discount_Applied',\n",
            "       'Customer_Category', 'Season', 'Promotion'],\n",
            "      dtype='object')\n"
          ]
        }
      ],
      "source": [
        "print(\"Columns in X_train_retail:\", X_train_retail.columns)\n",
        "print(\"Columns in X_valid_retail:\", X_valid_retail.columns)\n"
      ]
    },
    {
      "cell_type": "code",
      "execution_count": 106,
      "metadata": {},
      "outputs": [],
      "source": [
        "# Restart Kernel Anda dan muat ulang data\n",
        "\n",
        "# Setelah memuat data, jalankan kode transformasi ini sekali saja\n",
        "if 'Date' in X_valid_retail.columns:\n",
        "    X_valid_retail['Date'] = pd.to_datetime(X_valid_retail['Date'])\n",
        "    X_valid_retail['Year'] = X_valid_retail['Date'].dt.year\n",
        "    X_valid_retail['Month'] = X_valid_retail['Date'].dt.month\n",
        "    X_valid_retail['Day'] = X_valid_retail['Date'].dt.day\n",
        "    X_valid_retail.drop('Date', axis=1, inplace=True)\n"
      ]
    },
    {
      "cell_type": "code",
      "execution_count": 107,
      "metadata": {
        "colab": {
          "base_uri": "https://localhost:8080/"
        },
        "id": "__tbskICHeeN",
        "outputId": "5c8ef13c-9277-4b8f-fb44-41663e041dd2"
      },
      "outputs": [],
      "source": [
        "\n",
        "\n",
        "# Tentukan kolom kategorikal\n",
        "categorical_columns = ['Customer_Name', 'Product', 'Payment_Method', \n",
        "                       'City', 'Store_Type', 'Customer_Category', 'Season', 'Promotion']\n",
        "\n",
        "# Inisialisasi OneHotEncoder dengan handle_unknown='ignore'\n",
        "onehot_encoder = OneHotEncoder(handle_unknown='ignore')\n",
        "\n",
        "# Inisialisasi ColumnTransformer\n",
        "column_transformer = ColumnTransformer(\n",
        "    [(\"encoder\", onehot_encoder, categorical_columns)],\n",
        "    remainder='passthrough')\n",
        "\n",
        "# Terapkan transformasi pada data latih dan validasi\n",
        "X_train_retail_encoded = column_transformer.fit_transform(X_train_retail)\n",
        "X_valid_retail_encoded = column_transformer.transform(X_valid_retail)\n"
      ]
    },
    {
      "cell_type": "code",
      "execution_count": 108,
      "metadata": {},
      "outputs": [
        {
          "name": "stdout",
          "output_type": "stream",
          "text": [
            "Root Mean Squared Error: 2.8826685205649634\n"
          ]
        }
      ],
      "source": [
        "from xgboost import XGBRegressor\n",
        "from sklearn.metrics import mean_squared_error\n",
        "\n",
        "# Inisialisasi model XGBRegressor\n",
        "xgb_model = XGBRegressor(n_estimators=100, learning_rate=0.1)\n",
        "\n",
        "# Latih model dengan data latih\n",
        "xgb_model.fit(X_train_retail_encoded, y_train_retail)\n",
        "\n",
        "# Lakukan prediksi pada data validasi\n",
        "y_pred = xgb_model.predict(X_valid_retail_encoded)\n",
        "\n",
        "# Hitung dan cetak nilai Root Mean Squared Error (RMSE)\n",
        "rmse = mean_squared_error(y_valid_retail, y_pred, squared=False)\n",
        "print(f\"Root Mean Squared Error: {rmse}\")\n"
      ]
    }
  ],
  "metadata": {
    "colab": {
      "authorship_tag": "ABX9TyOfeHXdWZO3KrGwGZhzkXzk",
      "include_colab_link": true,
      "provenance": []
    },
    "kernelspec": {
      "display_name": "Python 3",
      "name": "python3"
    },
    "language_info": {
      "codemirror_mode": {
        "name": "ipython",
        "version": 3
      },
      "file_extension": ".py",
      "mimetype": "text/x-python",
      "name": "python",
      "nbconvert_exporter": "python",
      "pygments_lexer": "ipython3",
      "version": "3.11.3"
    }
  },
  "nbformat": 4,
  "nbformat_minor": 0
}
