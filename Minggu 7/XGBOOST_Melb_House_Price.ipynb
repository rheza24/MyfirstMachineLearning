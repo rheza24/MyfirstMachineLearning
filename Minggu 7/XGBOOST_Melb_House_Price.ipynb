{
  "cells": [
    {
      "cell_type": "markdown",
      "metadata": {},
      "source": [
        "RHEZA ILHAM FIRMANSYAH"
      ]
    },
    {
      "cell_type": "code",
      "execution_count": 1,
      "metadata": {
        "id": "sdBjLRL4JmkJ"
      },
      "outputs": [],
      "source": [
        "import pandas as pd"
      ]
    },
    {
      "cell_type": "code",
      "execution_count": 2,
      "metadata": {
        "colab": {
          "base_uri": "https://localhost:8080/"
        },
        "id": "Ak0DMAQ6I9S8",
        "outputId": "ea79ae6f-f809-43b1-c44c-119b6fe4d551"
      },
      "outputs": [
        {
          "name": "stdout",
          "output_type": "stream",
          "text": [
            "       Suburb           Address  Rooms Type      Price Method SellerG  \\\n",
            "0  Abbotsford      85 Turner St      2    h  1480000.0      S  Biggin   \n",
            "1  Abbotsford   25 Bloomburg St      2    h  1035000.0      S  Biggin   \n",
            "2  Abbotsford      5 Charles St      3    h  1465000.0     SP  Biggin   \n",
            "3  Abbotsford  40 Federation La      3    h   850000.0     PI  Biggin   \n",
            "4  Abbotsford       55a Park St      4    h  1600000.0     VB  Nelson   \n",
            "\n",
            "        Date  Distance  Postcode  ...  Bathroom  Car  Landsize  BuildingArea  \\\n",
            "0  3/12/2016       2.5    3067.0  ...       1.0  1.0     202.0           NaN   \n",
            "1  4/02/2016       2.5    3067.0  ...       1.0  0.0     156.0          79.0   \n",
            "2  4/03/2017       2.5    3067.0  ...       2.0  0.0     134.0         150.0   \n",
            "3  4/03/2017       2.5    3067.0  ...       2.0  1.0      94.0           NaN   \n",
            "4  4/06/2016       2.5    3067.0  ...       1.0  2.0     120.0         142.0   \n",
            "\n",
            "   YearBuilt  CouncilArea Lattitude  Longtitude             Regionname  \\\n",
            "0        NaN        Yarra  -37.7996    144.9984  Northern Metropolitan   \n",
            "1     1900.0        Yarra  -37.8079    144.9934  Northern Metropolitan   \n",
            "2     1900.0        Yarra  -37.8093    144.9944  Northern Metropolitan   \n",
            "3        NaN        Yarra  -37.7969    144.9969  Northern Metropolitan   \n",
            "4     2014.0        Yarra  -37.8072    144.9941  Northern Metropolitan   \n",
            "\n",
            "  Propertycount  \n",
            "0        4019.0  \n",
            "1        4019.0  \n",
            "2        4019.0  \n",
            "3        4019.0  \n",
            "4        4019.0  \n",
            "\n",
            "[5 rows x 21 columns]\n"
          ]
        }
      ],
      "source": [
        "dataset_path = 'C:/Users/Rheza/OneDrive - Telkom University/Machine learning/Minggu 7/melb_data.csv'\n",
        "# Menggunakan Pandas untuk membaca file CSV\n",
        "# 'pd' adalah alias yang umum digunakan untuk pandas, yang harus diimpor sebelumnya dengan 'import pandas as pd'\n",
        "df = pd.read_csv(dataset_path)\n",
        "# 'df.head()' menampilkan 5 baris pertama dari DataFrame untuk memberikan pratinjau dari data\n",
        "print(df.head())"
      ]
    },
    {
      "cell_type": "code",
      "execution_count": 3,
      "metadata": {
        "colab": {
          "base_uri": "https://localhost:8080/"
        },
        "id": "_9aZrXKeJW-i",
        "outputId": "3639249c-03bd-4299-855c-407fae0ffc20"
      },
      "outputs": [
        {
          "name": "stdout",
          "output_type": "stream",
          "text": [
            "<class 'pandas.core.frame.DataFrame'>\n",
            "RangeIndex: 13580 entries, 0 to 13579\n",
            "Data columns (total 21 columns):\n",
            " #   Column         Non-Null Count  Dtype  \n",
            "---  ------         --------------  -----  \n",
            " 0   Suburb         13580 non-null  object \n",
            " 1   Address        13580 non-null  object \n",
            " 2   Rooms          13580 non-null  int64  \n",
            " 3   Type           13580 non-null  object \n",
            " 4   Price          13580 non-null  float64\n",
            " 5   Method         13580 non-null  object \n",
            " 6   SellerG        13580 non-null  object \n",
            " 7   Date           13580 non-null  object \n",
            " 8   Distance       13580 non-null  float64\n",
            " 9   Postcode       13580 non-null  float64\n",
            " 10  Bedroom2       13580 non-null  float64\n",
            " 11  Bathroom       13580 non-null  float64\n",
            " 12  Car            13518 non-null  float64\n",
            " 13  Landsize       13580 non-null  float64\n",
            " 14  BuildingArea   7130 non-null   float64\n",
            " 15  YearBuilt      8205 non-null   float64\n",
            " 16  CouncilArea    12211 non-null  object \n",
            " 17  Lattitude      13580 non-null  float64\n",
            " 18  Longtitude     13580 non-null  float64\n",
            " 19  Regionname     13580 non-null  object \n",
            " 20  Propertycount  13580 non-null  float64\n",
            "dtypes: float64(12), int64(1), object(8)\n",
            "memory usage: 2.2+ MB\n"
          ]
        }
      ],
      "source": [
        "df.info()"
      ]
    },
    {
      "cell_type": "code",
      "execution_count": 4,
      "metadata": {
        "id": "o5sDzzXTLsKD"
      },
      "outputs": [],
      "source": [
        "df = df.dropna(subset=['Car'])\n"
      ]
    },
    {
      "cell_type": "code",
      "execution_count": 5,
      "metadata": {
        "colab": {
          "base_uri": "https://localhost:8080/"
        },
        "id": "aDnbEQJBKWmv",
        "outputId": "9c86bfb0-4127-4150-c458-297eec023f84"
      },
      "outputs": [],
      "source": [
        "# Mengubah tipe data pada kolom 'Bedroom2' menjadi integer (bilangan bulat)\n",
        "df['Bedroom2'] = df['Bedroom2'].astype(int)\n",
        "# Mengubah tipe data pada kolom 'Bathroom' menjadi integer (bilangan bulat)\n",
        "df['Bathroom'] = df['Bathroom'].astype(int)\n",
        "# Mengubah tipe data pada kolom 'Car' menjadi integer (bilangan bulat)\n",
        "df['Car'] = df['Car'].astype(int)"
      ]
    },
    {
      "cell_type": "code",
      "execution_count": 6,
      "metadata": {
        "colab": {
          "base_uri": "https://localhost:8080/"
        },
        "id": "b02uONwcOyYt",
        "outputId": "d974c340-1487-44e8-9ea9-cbdd6c255859"
      },
      "outputs": [
        {
          "name": "stdout",
          "output_type": "stream",
          "text": [
            "Jumlah nilai NaN dalam kolom Car: 0\n"
          ]
        }
      ],
      "source": [
        "nan_count_car = df['Car'].isna().sum()\n",
        "print(f\"Jumlah nilai NaN dalam kolom Car: {nan_count_car}\")"
      ]
    },
    {
      "cell_type": "code",
      "execution_count": 7,
      "metadata": {
        "id": "ZZ5_qTFzOlcu"
      },
      "outputs": [],
      "source": [
        "cols_to_use = ['Rooms', 'Distance', 'Landsize', 'BuildingArea', 'YearBuilt']\n",
        "X = df[cols_to_use]"
      ]
    },
    {
      "cell_type": "code",
      "execution_count": 8,
      "metadata": {
        "id": "tL-JGqYGPKDF"
      },
      "outputs": [],
      "source": [
        "# Select target\n",
        "from sklearn.model_selection import train_test_split\n",
        "\n",
        "y = df.Price\n",
        "\n",
        "# Separate data into training and validation sets\n",
        "X_train, X_valid, y_train, y_valid = train_test_split(X, y)"
      ]
    },
    {
      "cell_type": "code",
      "execution_count": 9,
      "metadata": {
        "colab": {
          "base_uri": "https://localhost:8080/",
          "height": 248
        },
        "id": "OFqCThedQC_8",
        "outputId": "8ee3ddd9-540b-4d3d-e55c-caf0d64c1e75"
      },
      "outputs": [
        {
          "data": {
            "text/html": [
              "<style>#sk-container-id-1 {color: black;}#sk-container-id-1 pre{padding: 0;}#sk-container-id-1 div.sk-toggleable {background-color: white;}#sk-container-id-1 label.sk-toggleable__label {cursor: pointer;display: block;width: 100%;margin-bottom: 0;padding: 0.3em;box-sizing: border-box;text-align: center;}#sk-container-id-1 label.sk-toggleable__label-arrow:before {content: \"▸\";float: left;margin-right: 0.25em;color: #696969;}#sk-container-id-1 label.sk-toggleable__label-arrow:hover:before {color: black;}#sk-container-id-1 div.sk-estimator:hover label.sk-toggleable__label-arrow:before {color: black;}#sk-container-id-1 div.sk-toggleable__content {max-height: 0;max-width: 0;overflow: hidden;text-align: left;background-color: #f0f8ff;}#sk-container-id-1 div.sk-toggleable__content pre {margin: 0.2em;color: black;border-radius: 0.25em;background-color: #f0f8ff;}#sk-container-id-1 input.sk-toggleable__control:checked~div.sk-toggleable__content {max-height: 200px;max-width: 100%;overflow: auto;}#sk-container-id-1 input.sk-toggleable__control:checked~label.sk-toggleable__label-arrow:before {content: \"▾\";}#sk-container-id-1 div.sk-estimator input.sk-toggleable__control:checked~label.sk-toggleable__label {background-color: #d4ebff;}#sk-container-id-1 div.sk-label input.sk-toggleable__control:checked~label.sk-toggleable__label {background-color: #d4ebff;}#sk-container-id-1 input.sk-hidden--visually {border: 0;clip: rect(1px 1px 1px 1px);clip: rect(1px, 1px, 1px, 1px);height: 1px;margin: -1px;overflow: hidden;padding: 0;position: absolute;width: 1px;}#sk-container-id-1 div.sk-estimator {font-family: monospace;background-color: #f0f8ff;border: 1px dotted black;border-radius: 0.25em;box-sizing: border-box;margin-bottom: 0.5em;}#sk-container-id-1 div.sk-estimator:hover {background-color: #d4ebff;}#sk-container-id-1 div.sk-parallel-item::after {content: \"\";width: 100%;border-bottom: 1px solid gray;flex-grow: 1;}#sk-container-id-1 div.sk-label:hover label.sk-toggleable__label {background-color: #d4ebff;}#sk-container-id-1 div.sk-serial::before {content: \"\";position: absolute;border-left: 1px solid gray;box-sizing: border-box;top: 0;bottom: 0;left: 50%;z-index: 0;}#sk-container-id-1 div.sk-serial {display: flex;flex-direction: column;align-items: center;background-color: white;padding-right: 0.2em;padding-left: 0.2em;position: relative;}#sk-container-id-1 div.sk-item {position: relative;z-index: 1;}#sk-container-id-1 div.sk-parallel {display: flex;align-items: stretch;justify-content: center;background-color: white;position: relative;}#sk-container-id-1 div.sk-item::before, #sk-container-id-1 div.sk-parallel-item::before {content: \"\";position: absolute;border-left: 1px solid gray;box-sizing: border-box;top: 0;bottom: 0;left: 50%;z-index: -1;}#sk-container-id-1 div.sk-parallel-item {display: flex;flex-direction: column;z-index: 1;position: relative;background-color: white;}#sk-container-id-1 div.sk-parallel-item:first-child::after {align-self: flex-end;width: 50%;}#sk-container-id-1 div.sk-parallel-item:last-child::after {align-self: flex-start;width: 50%;}#sk-container-id-1 div.sk-parallel-item:only-child::after {width: 0;}#sk-container-id-1 div.sk-dashed-wrapped {border: 1px dashed gray;margin: 0 0.4em 0.5em 0.4em;box-sizing: border-box;padding-bottom: 0.4em;background-color: white;}#sk-container-id-1 div.sk-label label {font-family: monospace;font-weight: bold;display: inline-block;line-height: 1.2em;}#sk-container-id-1 div.sk-label-container {text-align: center;}#sk-container-id-1 div.sk-container {/* jupyter's `normalize.less` sets `[hidden] { display: none; }` but bootstrap.min.css set `[hidden] { display: none !important; }` so we also need the `!important` here to be able to override the default hidden behavior on the sphinx rendered scikit-learn.org. See: https://github.com/scikit-learn/scikit-learn/issues/21755 */display: inline-block !important;position: relative;}#sk-container-id-1 div.sk-text-repr-fallback {display: none;}</style><div id=\"sk-container-id-1\" class=\"sk-top-container\"><div class=\"sk-text-repr-fallback\"><pre>XGBRegressor(base_score=None, booster=None, callbacks=None,\n",
              "             colsample_bylevel=None, colsample_bynode=None,\n",
              "             colsample_bytree=None, device=None, early_stopping_rounds=None,\n",
              "             enable_categorical=False, eval_metric=None, feature_types=None,\n",
              "             gamma=None, grow_policy=None, importance_type=None,\n",
              "             interaction_constraints=None, learning_rate=None, max_bin=None,\n",
              "             max_cat_threshold=None, max_cat_to_onehot=None,\n",
              "             max_delta_step=None, max_depth=None, max_leaves=None,\n",
              "             min_child_weight=None, missing=nan, monotone_constraints=None,\n",
              "             multi_strategy=None, n_estimators=None, n_jobs=None,\n",
              "             num_parallel_tree=None, random_state=None, ...)</pre><b>In a Jupyter environment, please rerun this cell to show the HTML representation or trust the notebook. <br />On GitHub, the HTML representation is unable to render, please try loading this page with nbviewer.org.</b></div><div class=\"sk-container\" hidden><div class=\"sk-item\"><div class=\"sk-estimator sk-toggleable\"><input class=\"sk-toggleable__control sk-hidden--visually\" id=\"sk-estimator-id-1\" type=\"checkbox\" checked><label for=\"sk-estimator-id-1\" class=\"sk-toggleable__label sk-toggleable__label-arrow\">XGBRegressor</label><div class=\"sk-toggleable__content\"><pre>XGBRegressor(base_score=None, booster=None, callbacks=None,\n",
              "             colsample_bylevel=None, colsample_bynode=None,\n",
              "             colsample_bytree=None, device=None, early_stopping_rounds=None,\n",
              "             enable_categorical=False, eval_metric=None, feature_types=None,\n",
              "             gamma=None, grow_policy=None, importance_type=None,\n",
              "             interaction_constraints=None, learning_rate=None, max_bin=None,\n",
              "             max_cat_threshold=None, max_cat_to_onehot=None,\n",
              "             max_delta_step=None, max_depth=None, max_leaves=None,\n",
              "             min_child_weight=None, missing=nan, monotone_constraints=None,\n",
              "             multi_strategy=None, n_estimators=None, n_jobs=None,\n",
              "             num_parallel_tree=None, random_state=None, ...)</pre></div></div></div></div></div>"
            ],
            "text/plain": [
              "XGBRegressor(base_score=None, booster=None, callbacks=None,\n",
              "             colsample_bylevel=None, colsample_bynode=None,\n",
              "             colsample_bytree=None, device=None, early_stopping_rounds=None,\n",
              "             enable_categorical=False, eval_metric=None, feature_types=None,\n",
              "             gamma=None, grow_policy=None, importance_type=None,\n",
              "             interaction_constraints=None, learning_rate=None, max_bin=None,\n",
              "             max_cat_threshold=None, max_cat_to_onehot=None,\n",
              "             max_delta_step=None, max_depth=None, max_leaves=None,\n",
              "             min_child_weight=None, missing=nan, monotone_constraints=None,\n",
              "             multi_strategy=None, n_estimators=None, n_jobs=None,\n",
              "             num_parallel_tree=None, random_state=None, ...)"
            ]
          },
          "execution_count": 9,
          "metadata": {},
          "output_type": "execute_result"
        }
      ],
      "source": [
        "from xgboost import XGBRegressor\n",
        "\n",
        "my_model = XGBRegressor()\n",
        "my_model.fit(X_train, y_train)"
      ]
    },
    {
      "cell_type": "code",
      "execution_count": 10,
      "metadata": {
        "id": "pPpwvG3cQEdv"
      },
      "outputs": [],
      "source": [
        "from sklearn.metrics import mean_absolute_error\n",
        "from sklearn.linear_model import LinearRegression"
      ]
    },
    {
      "cell_type": "code",
      "execution_count": 11,
      "metadata": {
        "colab": {
          "base_uri": "https://localhost:8080/"
        },
        "id": "4T4HsD60RyYZ",
        "outputId": "1f83ecd8-35cc-485a-8eae-3e80e4d7d95d"
      },
      "outputs": [
        {
          "name": "stdout",
          "output_type": "stream",
          "text": [
            "Mean Absolute Error:234914.67491678995\n"
          ]
        }
      ],
      "source": [
        "predictions = my_model.predict(X_valid)\n",
        "print(\"Mean Absolute Error:\" + str(mean_absolute_error(predictions, y_valid)))"
      ]
    },
    {
      "cell_type": "code",
      "execution_count": 12,
      "metadata": {
        "colab": {
          "base_uri": "https://localhost:8080/",
          "height": 248
        },
        "id": "Bbvo3I-0Q2Xo",
        "outputId": "c7580812-59d6-46fb-96e5-1cc6f5f38abe"
      },
      "outputs": [
        {
          "data": {
            "text/html": [
              "<style>#sk-container-id-2 {color: black;}#sk-container-id-2 pre{padding: 0;}#sk-container-id-2 div.sk-toggleable {background-color: white;}#sk-container-id-2 label.sk-toggleable__label {cursor: pointer;display: block;width: 100%;margin-bottom: 0;padding: 0.3em;box-sizing: border-box;text-align: center;}#sk-container-id-2 label.sk-toggleable__label-arrow:before {content: \"▸\";float: left;margin-right: 0.25em;color: #696969;}#sk-container-id-2 label.sk-toggleable__label-arrow:hover:before {color: black;}#sk-container-id-2 div.sk-estimator:hover label.sk-toggleable__label-arrow:before {color: black;}#sk-container-id-2 div.sk-toggleable__content {max-height: 0;max-width: 0;overflow: hidden;text-align: left;background-color: #f0f8ff;}#sk-container-id-2 div.sk-toggleable__content pre {margin: 0.2em;color: black;border-radius: 0.25em;background-color: #f0f8ff;}#sk-container-id-2 input.sk-toggleable__control:checked~div.sk-toggleable__content {max-height: 200px;max-width: 100%;overflow: auto;}#sk-container-id-2 input.sk-toggleable__control:checked~label.sk-toggleable__label-arrow:before {content: \"▾\";}#sk-container-id-2 div.sk-estimator input.sk-toggleable__control:checked~label.sk-toggleable__label {background-color: #d4ebff;}#sk-container-id-2 div.sk-label input.sk-toggleable__control:checked~label.sk-toggleable__label {background-color: #d4ebff;}#sk-container-id-2 input.sk-hidden--visually {border: 0;clip: rect(1px 1px 1px 1px);clip: rect(1px, 1px, 1px, 1px);height: 1px;margin: -1px;overflow: hidden;padding: 0;position: absolute;width: 1px;}#sk-container-id-2 div.sk-estimator {font-family: monospace;background-color: #f0f8ff;border: 1px dotted black;border-radius: 0.25em;box-sizing: border-box;margin-bottom: 0.5em;}#sk-container-id-2 div.sk-estimator:hover {background-color: #d4ebff;}#sk-container-id-2 div.sk-parallel-item::after {content: \"\";width: 100%;border-bottom: 1px solid gray;flex-grow: 1;}#sk-container-id-2 div.sk-label:hover label.sk-toggleable__label {background-color: #d4ebff;}#sk-container-id-2 div.sk-serial::before {content: \"\";position: absolute;border-left: 1px solid gray;box-sizing: border-box;top: 0;bottom: 0;left: 50%;z-index: 0;}#sk-container-id-2 div.sk-serial {display: flex;flex-direction: column;align-items: center;background-color: white;padding-right: 0.2em;padding-left: 0.2em;position: relative;}#sk-container-id-2 div.sk-item {position: relative;z-index: 1;}#sk-container-id-2 div.sk-parallel {display: flex;align-items: stretch;justify-content: center;background-color: white;position: relative;}#sk-container-id-2 div.sk-item::before, #sk-container-id-2 div.sk-parallel-item::before {content: \"\";position: absolute;border-left: 1px solid gray;box-sizing: border-box;top: 0;bottom: 0;left: 50%;z-index: -1;}#sk-container-id-2 div.sk-parallel-item {display: flex;flex-direction: column;z-index: 1;position: relative;background-color: white;}#sk-container-id-2 div.sk-parallel-item:first-child::after {align-self: flex-end;width: 50%;}#sk-container-id-2 div.sk-parallel-item:last-child::after {align-self: flex-start;width: 50%;}#sk-container-id-2 div.sk-parallel-item:only-child::after {width: 0;}#sk-container-id-2 div.sk-dashed-wrapped {border: 1px dashed gray;margin: 0 0.4em 0.5em 0.4em;box-sizing: border-box;padding-bottom: 0.4em;background-color: white;}#sk-container-id-2 div.sk-label label {font-family: monospace;font-weight: bold;display: inline-block;line-height: 1.2em;}#sk-container-id-2 div.sk-label-container {text-align: center;}#sk-container-id-2 div.sk-container {/* jupyter's `normalize.less` sets `[hidden] { display: none; }` but bootstrap.min.css set `[hidden] { display: none !important; }` so we also need the `!important` here to be able to override the default hidden behavior on the sphinx rendered scikit-learn.org. See: https://github.com/scikit-learn/scikit-learn/issues/21755 */display: inline-block !important;position: relative;}#sk-container-id-2 div.sk-text-repr-fallback {display: none;}</style><div id=\"sk-container-id-2\" class=\"sk-top-container\"><div class=\"sk-text-repr-fallback\"><pre>XGBRegressor(base_score=None, booster=None, callbacks=None,\n",
              "             colsample_bylevel=None, colsample_bynode=None,\n",
              "             colsample_bytree=None, device=None, early_stopping_rounds=None,\n",
              "             enable_categorical=False, eval_metric=None, feature_types=None,\n",
              "             gamma=None, grow_policy=None, importance_type=None,\n",
              "             interaction_constraints=None, learning_rate=None, max_bin=None,\n",
              "             max_cat_threshold=None, max_cat_to_onehot=None,\n",
              "             max_delta_step=None, max_depth=None, max_leaves=None,\n",
              "             min_child_weight=None, missing=nan, monotone_constraints=None,\n",
              "             multi_strategy=None, n_estimators=500, n_jobs=None,\n",
              "             num_parallel_tree=None, random_state=None, ...)</pre><b>In a Jupyter environment, please rerun this cell to show the HTML representation or trust the notebook. <br />On GitHub, the HTML representation is unable to render, please try loading this page with nbviewer.org.</b></div><div class=\"sk-container\" hidden><div class=\"sk-item\"><div class=\"sk-estimator sk-toggleable\"><input class=\"sk-toggleable__control sk-hidden--visually\" id=\"sk-estimator-id-2\" type=\"checkbox\" checked><label for=\"sk-estimator-id-2\" class=\"sk-toggleable__label sk-toggleable__label-arrow\">XGBRegressor</label><div class=\"sk-toggleable__content\"><pre>XGBRegressor(base_score=None, booster=None, callbacks=None,\n",
              "             colsample_bylevel=None, colsample_bynode=None,\n",
              "             colsample_bytree=None, device=None, early_stopping_rounds=None,\n",
              "             enable_categorical=False, eval_metric=None, feature_types=None,\n",
              "             gamma=None, grow_policy=None, importance_type=None,\n",
              "             interaction_constraints=None, learning_rate=None, max_bin=None,\n",
              "             max_cat_threshold=None, max_cat_to_onehot=None,\n",
              "             max_delta_step=None, max_depth=None, max_leaves=None,\n",
              "             min_child_weight=None, missing=nan, monotone_constraints=None,\n",
              "             multi_strategy=None, n_estimators=500, n_jobs=None,\n",
              "             num_parallel_tree=None, random_state=None, ...)</pre></div></div></div></div></div>"
            ],
            "text/plain": [
              "XGBRegressor(base_score=None, booster=None, callbacks=None,\n",
              "             colsample_bylevel=None, colsample_bynode=None,\n",
              "             colsample_bytree=None, device=None, early_stopping_rounds=None,\n",
              "             enable_categorical=False, eval_metric=None, feature_types=None,\n",
              "             gamma=None, grow_policy=None, importance_type=None,\n",
              "             interaction_constraints=None, learning_rate=None, max_bin=None,\n",
              "             max_cat_threshold=None, max_cat_to_onehot=None,\n",
              "             max_delta_step=None, max_depth=None, max_leaves=None,\n",
              "             min_child_weight=None, missing=nan, monotone_constraints=None,\n",
              "             multi_strategy=None, n_estimators=500, n_jobs=None,\n",
              "             num_parallel_tree=None, random_state=None, ...)"
            ]
          },
          "execution_count": 12,
          "metadata": {},
          "output_type": "execute_result"
        }
      ],
      "source": [
        "my_model_0 = XGBRegressor(n_estimators=500)\n",
        "my_model_0.fit(X_train, y_train)"
      ]
    },
    {
      "cell_type": "code",
      "execution_count": 13,
      "metadata": {
        "colab": {
          "base_uri": "https://localhost:8080/"
        },
        "id": "4fMQVpq5SFvh",
        "outputId": "9d58ac9e-d89c-43c9-8606-ca091f144a1f"
      },
      "outputs": [
        {
          "name": "stdout",
          "output_type": "stream",
          "text": [
            "Mean Absolute Error:243652.3659901997\n"
          ]
        }
      ],
      "source": [
        "predictions = my_model_0.predict(X_valid)\n",
        "print(\"Mean Absolute Error:\" + str(mean_absolute_error(predictions, y_valid)))"
      ]
    },
    {
      "cell_type": "code",
      "execution_count": 14,
      "metadata": {
        "colab": {
          "base_uri": "https://localhost:8080/"
        },
        "id": "cLYZNT65TOJm",
        "outputId": "3344f39f-8de1-4512-a2dc-1508dd17cdb6"
      },
      "outputs": [
        {
          "name": "stdout",
          "output_type": "stream",
          "text": [
            "Nilai n_estimators terbaik: 150\n"
          ]
        }
      ],
      "source": [
        "from sklearn.model_selection import GridSearchCV\n",
        "# Impor GridSearchCV dari sklearn, yang digunakan untuk mencari hyperparameter terbaik.\n",
        "# Inisialisasi model XGBoost yang akan kita tunjuk untuk optimisasi hyperparameter.\n",
        "model_grid = XGBRegressor()\n",
        "# Menetapkan kamus param_grid yang berisi hyperparameter yang ingin kita uji.\n",
        "# Dalam hal ini, kita akan mencoba berbagai nilai untuk 'n_estimators'.\n",
        "param_grid = {\n",
        "    'n_estimators': [150, 200, 250, 300, 1000]\n",
        "}\n",
        "# Membuat objek GridSearchCV dengan model XGBoost, grid parameter yang ditentukan,\n",
        "# menggunakan 5-fold cross-validation, dan menggunakan negatif mean absolute error sebagai skor.\n",
        "grid_search = GridSearchCV(estimator=model_grid, param_grid=param_grid, cv=5, scoring='neg_mean_absolute_error')\n",
        "# Melatih model dengan menggunakan GridSearchCV pada data training untuk mencari kombinasi hyperparameter terbaik.\n",
        "grid_search.fit(X_train, y_train)\n",
        "# Mendapatkan nilai 'n_estimators' terbaik dari proses pencarian grid.\n",
        "best_n_estimators = grid_search.best_params_['n_estimators']\n",
        "# Mencetak nilai 'n_estimators' terbaik yang ditemukan oleh GridSearchCV.\n",
        "print(\"Nilai n_estimators terbaik:\", best_n_estimators)"
      ]
    },
    {
      "cell_type": "code",
      "execution_count": 15,
      "metadata": {
        "colab": {
          "base_uri": "https://localhost:8080/"
        },
        "id": "-sFj3aKTTi3H",
        "outputId": "c262be93-b471-4aab-db55-1ac493b6c18e"
      },
      "outputs": [
        {
          "name": "stdout",
          "output_type": "stream",
          "text": [
            "n_estimators: 100, Mean Absolute Error: 234914.67491678995\n",
            "n_estimators: 150, Mean Absolute Error: 234523.09240014793\n",
            "n_estimators: 200, Mean Absolute Error: 236354.65674694895\n",
            "n_estimators: 250, Mean Absolute Error: 238186.45446098372\n",
            "n_estimators: 300, Mean Absolute Error: 238700.09609837277\n"
          ]
        }
      ],
      "source": [
        "# Menetapkan rentang nilai 'n_estimators' untuk diuji coba\n",
        "n_estimators_list = [100, 150, 200, 250, 300]\n",
        "\n",
        "# Membuat sebuah list kosong untuk menyimpan nilai-nilai MAE dari setiap model\n",
        "mae_results = []\n",
        "\n",
        "# Melakukan iterasi untuk setiap nilai 'n_estimators' dalam list yang telah ditentukan\n",
        "for n_estimators in n_estimators_list:\n",
        "    # Membuat model XGBRegressor dengan jumlah pohon tertentu sesuai iterasi\n",
        "    model_grid = XGBRegressor(n_estimators=n_estimators)\n",
        "\n",
        "    # Melatih model dengan data latih\n",
        "    model_grid.fit(X_train, y_train)\n",
        "\n",
        "    # Melakukan prediksi menggunakan model yang telah dilatih pada data validasi\n",
        "    predictions = model_grid.predict(X_valid)\n",
        "\n",
        "    # Menghitung nilai rata-rata kesalahan absolut (MAE) antara prediksi dan nilai sebenarnya\n",
        "    mae = mean_absolute_error(predictions, y_valid)\n",
        "\n",
        "    # Mencetak informasi jumlah pohon dan MAE yang bersesuaian\n",
        "    print(f\"n_estimators: {n_estimators}, Mean Absolute Error: {mae}\")\n",
        "\n",
        "    # Menambahkan nilai MAE yang dihasilkan ke dalam list 'mae_results'\n",
        "    mae_results.append(mae)\n"
      ]
    },
    {
      "cell_type": "code",
      "execution_count": 16,
      "metadata": {
        "colab": {
          "base_uri": "https://localhost:8080/"
        },
        "id": "ggxlbdzETzvD",
        "outputId": "cd9a835f-8f50-4fca-d43b-38a0ef43a4ce"
      },
      "outputs": [
        {
          "name": "stdout",
          "output_type": "stream",
          "text": [
            "Mean Absolute Error: 238527.11287444527\n"
          ]
        },
        {
          "name": "stderr",
          "output_type": "stream",
          "text": [
            "c:\\Python311\\Lib\\site-packages\\xgboost\\sklearn.py:885: UserWarning: `early_stopping_rounds` in `fit` method is deprecated for better compatibility with scikit-learn, use `early_stopping_rounds` in constructor or`set_params` instead.\n",
            "  warnings.warn(\n"
          ]
        }
      ],
      "source": [
        "my_model_2 = XGBRegressor(n_estimators=100)\n",
        "my_model_2.fit(X_train, y_train,\n",
        "               early_stopping_rounds=5,\n",
        "               eval_set=[(X_valid, y_valid)],\n",
        "               verbose=False)\n",
        "\n",
        "predictions_2 = my_model_2.predict(X_valid)\n",
        "print(\"Mean Absolute Error: \" + str(mean_absolute_error(predictions_2, y_valid)))"
      ]
    }
  ],
  "metadata": {
    "colab": {
      "authorship_tag": "ABX9TyOi/vOoHoMzneKM4kF2Qyiz",
      "include_colab_link": true,
      "provenance": []
    },
    "kernelspec": {
      "display_name": "Python 3",
      "name": "python3"
    },
    "language_info": {
      "codemirror_mode": {
        "name": "ipython",
        "version": 3
      },
      "file_extension": ".py",
      "mimetype": "text/x-python",
      "name": "python",
      "nbconvert_exporter": "python",
      "pygments_lexer": "ipython3",
      "version": "3.11.3"
    }
  },
  "nbformat": 4,
  "nbformat_minor": 0
}
